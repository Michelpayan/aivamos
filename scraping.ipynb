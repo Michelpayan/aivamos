{
 "cells": [
  {
   "cell_type": "code",
   "execution_count": 1,
   "id": "a258b589",
   "metadata": {},
   "outputs": [],
   "source": [
    "import time\n",
    "import json\n",
    "from tqdm import tqdm\n",
    "from bs4 import BeautifulSoup\n",
    "from urllib.parse import urljoin\n",
    "from selenium import webdriver\n",
    "from selenium.webdriver.chrome.service import Service\n",
    "from selenium.webdriver.chrome.options import Options"
   ]
  },
  {
   "cell_type": "code",
   "execution_count": null,
   "id": "d887f1c9",
   "metadata": {},
   "outputs": [
    {
     "name": "stdout",
     "output_type": "stream",
     "text": [
      "\n",
      "✅ Scraped 9 pages.\n",
      "📁 Data saved as oiq_scraped_data.json\n"
     ]
    }
   ],
   "source": [
    "import time\n",
    "import json\n",
    "from tqdm import tqdm\n",
    "from bs4 import BeautifulSoup\n",
    "from urllib.parse import urljoin\n",
    "from selenium import webdriver\n",
    "from selenium.webdriver.chrome.service import Service\n",
    "from selenium.webdriver.chrome.options import Options\n",
    "\n",
    "CHROMEDRIVER_PATH = \"C:\\\\Users\\\\miche\\\\Downloads\\\\chromedriver-win64\\\\chromedriver-win64\\\\chromedriver.exe\"\n",
    "\n",
    "chrome_options = Options()\n",
    "chrome_options.add_argument(\"--headless\")  \n",
    "chrome_options.add_argument(\"--disable-gpu\")\n",
    "chrome_options.add_argument(\"--no-sandbox\")\n",
    "\n",
    "service = Service(CHROMEDRIVER_PATH)\n",
    "driver = webdriver.Chrome(service=service, options=chrome_options)\n",
    "\n",
    "\n",
    "BASE_URL = \"https://www.oiq.qc.ca/en/futurs-membres/devenir-ingenieur-au-quebec\".rstrip('/')\n",
    "visited = set()\n",
    "all_pages = []\n",
    "\n",
    "def crawl(url):\n",
    "    if url in visited:\n",
    "        return\n",
    "    visited.add(url)\n",
    "\n",
    "    try:\n",
    "        driver.get(url)\n",
    "        time.sleep(1)\n",
    "        soup = BeautifulSoup(driver.page_source, \"html.parser\")\n",
    "\n",
    "        page = {\n",
    "            \"url\": url,\n",
    "            \"title\": soup.title.string.strip() if soup.title else \"\",\n",
    "            \"text\": soup.get_text(separator=\"\\n\", strip=True)\n",
    "        }\n",
    "        all_pages.append(page)\n",
    "\n",
    "        for link in soup.find_all(\"a\", href=True):\n",
    "            href = link[\"href\"]\n",
    "            full_url = urljoin(url, href).split(\"#\")[0].rstrip(\"/\")\n",
    "            if full_url.startswith(BASE_URL) and full_url not in visited:\n",
    "                crawl(full_url)\n",
    "                time.sleep(0.5)\n",
    "\n",
    "    except Exception as e:\n",
    "        print(f\"❌ Failed to fetch {url}: {e}\")\n",
    "\n",
    "\n",
    "crawl(BASE_URL)\n",
    "driver.quit()\n",
    "\n",
    "print(f\"\\n✅ Scraped {len(all_pages)} pages.\")\n",
    "\n",
    "with open(\"oiq_scraped_data.json\", \"w\", encoding=\"utf-8\") as f:\n",
    "    json.dump(all_pages, f, ensure_ascii=False, indent=2)\n",
    "\n",
    "print(\"📁 Data saved as oiq_scraped_data.json\")"
   ]
  },
  {
   "cell_type": "code",
   "execution_count": null,
   "id": "31e8cd58",
   "metadata": {},
   "outputs": [],
   "source": []
  }
 ],
 "metadata": {
  "kernelspec": {
   "display_name": "gimi",
   "language": "python",
   "name": "python3"
  },
  "language_info": {
   "codemirror_mode": {
    "name": "ipython",
    "version": 3
   },
   "file_extension": ".py",
   "mimetype": "text/x-python",
   "name": "python",
   "nbconvert_exporter": "python",
   "pygments_lexer": "ipython3",
   "version": "3.13.5"
  }
 },
 "nbformat": 4,
 "nbformat_minor": 5
}
